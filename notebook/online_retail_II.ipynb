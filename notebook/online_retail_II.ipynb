{
 "cells": [
  {
   "cell_type": "code",
   "execution_count": 1,
   "metadata": {},
   "outputs": [
    {
     "name": "stderr",
     "output_type": "stream",
     "text": [
      "<ipython-input-1-e91b8758e284>:11: DeprecationWarning: `np.math` is a deprecated alias for the standard library `math` module (Deprecated Numpy 1.25). Replace usages of `np.math` with `math`\n",
      "  from numpy import math\n"
     ]
    }
   ],
   "source": [
    "import pandas as pd\n",
    "import numpy as np\n",
    "import datetime as dt\n",
    "import seaborn as sns\n",
    "import matplotlib\n",
    "%matplotlib inline\n",
    "import matplotlib.pyplot as plt\n",
    "from sklearn.cluster import KMeans\n",
    "from sklearn.preprocessing import StandardScaler\n",
    "from yellowbrick.cluster import KElbowVisualizer\n",
    "from numpy import math\n",
    "import warnings\n",
    "warnings.simplefilter(action='ignore', category=FutureWarning)"
   ]
  },
  {
   "cell_type": "code",
   "execution_count": 3,
   "metadata": {},
   "outputs": [
    {
     "name": "stdout",
     "output_type": "stream",
     "text": [
      " Data imported successfully!!\n"
     ]
    },
    {
     "data": {
      "text/html": [
       "<style type=\"text/css\">\n",
       "#T_e83de_row0_col0, #T_e83de_row0_col1, #T_e83de_row0_col2, #T_e83de_row0_col3, #T_e83de_row0_col4, #T_e83de_row0_col5, #T_e83de_row0_col6, #T_e83de_row0_col7, #T_e83de_row1_col0, #T_e83de_row1_col1, #T_e83de_row1_col2, #T_e83de_row1_col3, #T_e83de_row1_col4, #T_e83de_row1_col5, #T_e83de_row1_col6, #T_e83de_row1_col7, #T_e83de_row2_col0, #T_e83de_row2_col1, #T_e83de_row2_col2, #T_e83de_row2_col3, #T_e83de_row2_col4, #T_e83de_row2_col5, #T_e83de_row2_col6, #T_e83de_row2_col7 {\n",
       "  background-color: #cd5c5c;\n",
       "  color: black;\n",
       "  border-color: black;\n",
       "}\n",
       "</style>\n",
       "<table id=\"T_e83de\">\n",
       "  <thead>\n",
       "    <tr>\n",
       "      <th class=\"blank level0\" >&nbsp;</th>\n",
       "      <th id=\"T_e83de_level0_col0\" class=\"col_heading level0 col0\" >Invoice</th>\n",
       "      <th id=\"T_e83de_level0_col1\" class=\"col_heading level0 col1\" >StockCode</th>\n",
       "      <th id=\"T_e83de_level0_col2\" class=\"col_heading level0 col2\" >Description</th>\n",
       "      <th id=\"T_e83de_level0_col3\" class=\"col_heading level0 col3\" >Quantity</th>\n",
       "      <th id=\"T_e83de_level0_col4\" class=\"col_heading level0 col4\" >InvoiceDate</th>\n",
       "      <th id=\"T_e83de_level0_col5\" class=\"col_heading level0 col5\" >Price</th>\n",
       "      <th id=\"T_e83de_level0_col6\" class=\"col_heading level0 col6\" >Customer ID</th>\n",
       "      <th id=\"T_e83de_level0_col7\" class=\"col_heading level0 col7\" >Country</th>\n",
       "    </tr>\n",
       "  </thead>\n",
       "  <tbody>\n",
       "    <tr>\n",
       "      <th id=\"T_e83de_level0_row0\" class=\"row_heading level0 row0\" >0</th>\n",
       "      <td id=\"T_e83de_row0_col0\" class=\"data row0 col0\" >489434</td>\n",
       "      <td id=\"T_e83de_row0_col1\" class=\"data row0 col1\" >85048</td>\n",
       "      <td id=\"T_e83de_row0_col2\" class=\"data row0 col2\" >15CM CHRISTMAS GLASS BALL 20 LIGHTS</td>\n",
       "      <td id=\"T_e83de_row0_col3\" class=\"data row0 col3\" >12</td>\n",
       "      <td id=\"T_e83de_row0_col4\" class=\"data row0 col4\" >2009-12-01 07:45:00</td>\n",
       "      <td id=\"T_e83de_row0_col5\" class=\"data row0 col5\" >6.950000</td>\n",
       "      <td id=\"T_e83de_row0_col6\" class=\"data row0 col6\" >13085.000000</td>\n",
       "      <td id=\"T_e83de_row0_col7\" class=\"data row0 col7\" >United Kingdom</td>\n",
       "    </tr>\n",
       "    <tr>\n",
       "      <th id=\"T_e83de_level0_row1\" class=\"row_heading level0 row1\" >1</th>\n",
       "      <td id=\"T_e83de_row1_col0\" class=\"data row1 col0\" >489434</td>\n",
       "      <td id=\"T_e83de_row1_col1\" class=\"data row1 col1\" >79323P</td>\n",
       "      <td id=\"T_e83de_row1_col2\" class=\"data row1 col2\" >PINK CHERRY LIGHTS</td>\n",
       "      <td id=\"T_e83de_row1_col3\" class=\"data row1 col3\" >12</td>\n",
       "      <td id=\"T_e83de_row1_col4\" class=\"data row1 col4\" >2009-12-01 07:45:00</td>\n",
       "      <td id=\"T_e83de_row1_col5\" class=\"data row1 col5\" >6.750000</td>\n",
       "      <td id=\"T_e83de_row1_col6\" class=\"data row1 col6\" >13085.000000</td>\n",
       "      <td id=\"T_e83de_row1_col7\" class=\"data row1 col7\" >United Kingdom</td>\n",
       "    </tr>\n",
       "    <tr>\n",
       "      <th id=\"T_e83de_level0_row2\" class=\"row_heading level0 row2\" >2</th>\n",
       "      <td id=\"T_e83de_row2_col0\" class=\"data row2 col0\" >489434</td>\n",
       "      <td id=\"T_e83de_row2_col1\" class=\"data row2 col1\" >79323W</td>\n",
       "      <td id=\"T_e83de_row2_col2\" class=\"data row2 col2\" > WHITE CHERRY LIGHTS</td>\n",
       "      <td id=\"T_e83de_row2_col3\" class=\"data row2 col3\" >12</td>\n",
       "      <td id=\"T_e83de_row2_col4\" class=\"data row2 col4\" >2009-12-01 07:45:00</td>\n",
       "      <td id=\"T_e83de_row2_col5\" class=\"data row2 col5\" >6.750000</td>\n",
       "      <td id=\"T_e83de_row2_col6\" class=\"data row2 col6\" >13085.000000</td>\n",
       "      <td id=\"T_e83de_row2_col7\" class=\"data row2 col7\" >United Kingdom</td>\n",
       "    </tr>\n",
       "  </tbody>\n",
       "</table>\n"
      ],
      "text/plain": [
       "<pandas.io.formats.style.Styler at 0x1aecd1a3670>"
      ]
     },
     "execution_count": 3,
     "metadata": {},
     "output_type": "execute_result"
    }
   ],
   "source": [
    "data = pd.read_csv('../data/online_retail_II.csv')\n",
    "print(\" Data imported successfully!!\")\n",
    "data.head(3).style.set_properties(**{\"background-color\": \"#cd5c5c\",\"color\": \"black\", \"border-color\": \"black\"})"
   ]
  },
  {
   "cell_type": "code",
   "execution_count": 6,
   "metadata": {},
   "outputs": [
    {
     "name": "stdout",
     "output_type": "stream",
     "text": [
      "-------------------------------------------------------SHAPE OF DATASET------------------------------------------------------\n",
      "Row: \n",
      "Column: \n",
      "-------------------------------------------------------------HEAD------------------------------------------------------------\n",
      "  Invoice StockCode                          Description  Quantity  \\\n",
      "0  489434     85048  15CM CHRISTMAS GLASS BALL 20 LIGHTS        12   \n",
      "1  489434    79323P                   PINK CHERRY LIGHTS        12   \n",
      "2  489434    79323W                  WHITE CHERRY LIGHTS        12   \n",
      "3  489434     22041         RECORD FRAME 7\" SINGLE SIZE         48   \n",
      "4  489434     21232       STRAWBERRY CERAMIC TRINKET BOX        24   \n",
      "\n",
      "           InvoiceDate  Price  Customer ID         Country  \n",
      "0  2009-12-01 07:45:00   6.95      13085.0  United Kingdom  \n",
      "1  2009-12-01 07:45:00   6.75      13085.0  United Kingdom  \n",
      "2  2009-12-01 07:45:00   6.75      13085.0  United Kingdom  \n",
      "3  2009-12-01 07:45:00   2.10      13085.0  United Kingdom  \n",
      "4  2009-12-01 07:45:00   1.25      13085.0  United Kingdom  \n",
      "----------------------------------------------------------DATA TYPES---------------------------------------------------------\n",
      "object     5\n",
      "float64    2\n",
      "int64      1\n",
      "dtype: int64\n",
      "--------------------------------------------------------MISSING VALUES-------------------------------------------------------\n",
      "Customer ID    243007\n",
      "Description      4382\n",
      "dtype: int64\n",
      "-------------------------------------------------------DUPLICATE VALUES------------------------------------------------------\n",
      "34335\n",
      "------------------------------------------------------STATISTICS OF DATA-----------------------------------------------------\n",
      "        Invoice StockCode                         Description      Quantity  \\\n",
      "count   1067371   1067371                             1062989  1.067371e+06   \n",
      "unique    53628      5305                                5698           NaN   \n",
      "top      537434    85123A  WHITE HANGING HEART T-LIGHT HOLDER           NaN   \n",
      "freq       1350      5829                                5918           NaN   \n",
      "mean        NaN       NaN                                 NaN  9.938898e+00   \n",
      "std         NaN       NaN                                 NaN  1.727058e+02   \n",
      "min         NaN       NaN                                 NaN -8.099500e+04   \n",
      "25%         NaN       NaN                                 NaN  1.000000e+00   \n",
      "50%         NaN       NaN                                 NaN  3.000000e+00   \n",
      "75%         NaN       NaN                                 NaN  1.000000e+01   \n",
      "max         NaN       NaN                                 NaN  8.099500e+04   \n",
      "\n",
      "                InvoiceDate         Price    Customer ID         Country  \n",
      "count               1067371  1.067371e+06  824364.000000         1067371  \n",
      "unique                47635           NaN            NaN              43  \n",
      "top     2010-12-06 16:57:00           NaN            NaN  United Kingdom  \n",
      "freq                   1350           NaN            NaN          981330  \n",
      "mean                    NaN  4.649388e+00   15324.638504             NaN  \n",
      "std                     NaN  1.235531e+02    1697.464450             NaN  \n",
      "min                     NaN -5.359436e+04   12346.000000             NaN  \n",
      "25%                     NaN  1.250000e+00   13975.000000             NaN  \n",
      "50%                     NaN  2.100000e+00   15255.000000             NaN  \n",
      "75%                     NaN  4.150000e+00   16797.000000             NaN  \n",
      "max                     NaN  3.897000e+04   18287.000000             NaN  \n",
      "----------------------------------------------------------DATA INFO----------------------------------------------------------\n",
      "<class 'pandas.core.frame.DataFrame'>\n",
      "RangeIndex: 1067371 entries, 0 to 1067370\n",
      "Data columns (total 8 columns):\n",
      " #   Column       Non-Null Count    Dtype  \n",
      "---  ------       --------------    -----  \n",
      " 0   Invoice      1067371 non-null  object \n",
      " 1   StockCode    1067371 non-null  object \n",
      " 2   Description  1062989 non-null  object \n",
      " 3   Quantity     1067371 non-null  int64  \n",
      " 4   InvoiceDate  1067371 non-null  object \n",
      " 5   Price        1067371 non-null  float64\n",
      " 6   Customer ID  824364 non-null   float64\n",
      " 7   Country      1067371 non-null  object \n",
      "dtypes: float64(2), int64(1), object(5)\n",
      "memory usage: 65.1+ MB\n",
      "None\n"
     ]
    }
   ],
   "source": [
    "pd.set_option('display.max_columns', None)\n",
    "def data_overview(df, head = 5):\n",
    "    print(\"SHAPE OF DATASET\".center(125, '-'))\n",
    "    print(\"Row: \".format(df.shape[0]))\n",
    "    print(\"Column: \".format(df.shape[1]))\n",
    "    print(\"HEAD\".center(125,'-'))\n",
    "    print(df.head(head))\n",
    "    print(\"DATA TYPES\".center(125,'-'))\n",
    "    print(df.dtypes.value_counts())\n",
    "    print(\"MISSING VALUES\".center(125,'-'))\n",
    "    print(df.isnull().sum()[df.isnull().sum()> 0].sort_values(ascending = False))\n",
    "    print(\"DUPLICATE VALUES\".center(125,'-')) \n",
    "    print(df.duplicated().sum())\n",
    "    print(\"STATISTICS OF DATA\".center(125,'-'))\n",
    "    print(df.describe(include=\"all\"))\n",
    "    print(\"DATA INFO\".center(125,'-'))\n",
    "    print(df.info())\n",
    "\n",
    "data_overview(data)"
   ]
  },
  {
   "cell_type": "markdown",
   "metadata": {},
   "source": [
    "#### Point to be noted\n",
    "* The Dataset has Rows: 1067371 and Columns:8\n",
    "* The Dataset has 3 types of columns: strings(5), integer(1), float(2)\n",
    "* The Dataset has Missing values in Customer ID (243007) and Description (4382)\n",
    "* Invoice starts with the 'c' needs to be cleaned as it is cancelled transaction\n",
    "* The Dataset has duplicates\n",
    "* Aslo check for negative value and outliers in Quantity and Price"
   ]
  },
  {
   "cell_type": "markdown",
   "metadata": {},
   "source": [
    "**Data Wrangling**"
   ]
  },
  {
   "cell_type": "markdown",
   "metadata": {},
   "source": [
    "#### Dealing with Missing values"
   ]
  },
  {
   "cell_type": "code",
   "execution_count": 11,
   "metadata": {},
   "outputs": [
    {
     "name": "stdout",
     "output_type": "stream",
     "text": [
      "(1067371, 8)\n",
      "(824364, 8)\n"
     ]
    }
   ],
   "source": [
    "#  Removing NaN's in Customer ID\n",
    "print(data.shape)\n",
    "data.dropna(subset=\"Customer ID\", axis=0, inplace= True)\n",
    "print(data.shape)\n"
   ]
  },
  {
   "cell_type": "code",
   "execution_count": 13,
   "metadata": {},
   "outputs": [
    {
     "data": {
      "text/plain": [
       "Invoice        0\n",
       "StockCode      0\n",
       "Description    0\n",
       "Quantity       0\n",
       "InvoiceDate    0\n",
       "Price          0\n",
       "Customer ID    0\n",
       "Country        0\n",
       "dtype: int64"
      ]
     },
     "execution_count": 13,
     "metadata": {},
     "output_type": "execute_result"
    }
   ],
   "source": [
    "data.isna().sum()"
   ]
  },
  {
   "cell_type": "markdown",
   "metadata": {},
   "source": [
    "#### Removing cancelled products from invoice"
   ]
  },
  {
   "cell_type": "code",
   "execution_count": 14,
   "metadata": {},
   "outputs": [],
   "source": [
    "#using one's compliment operator (~) we can unselect all the Invoice column which doesnt contain \"C\".\n",
    "data = data[~data.Invoice.str.contains('C', na= False)\n",
    "]"
   ]
  },
  {
   "cell_type": "markdown",
   "metadata": {},
   "source": [
    "#### 3️⃣Removing Duplicates"
   ]
  },
  {
   "cell_type": "code",
   "execution_count": 17,
   "metadata": {},
   "outputs": [
    {
     "name": "stdout",
     "output_type": "stream",
     "text": [
      "26125\n",
      "0\n"
     ]
    }
   ],
   "source": [
    "# Removing duplicates (Values in all columns are identical)\n",
    "print(data.duplicated().sum())\n",
    "data = data.drop_duplicates(keep=\"first\")\n",
    "print(data.duplicated().sum())\n"
   ]
  },
  {
   "cell_type": "markdown",
   "metadata": {},
   "source": [
    "#### 4️⃣Checking for negative value"
   ]
  },
  {
   "cell_type": "code",
   "execution_count": 21,
   "metadata": {},
   "outputs": [
    {
     "name": "stdout",
     "output_type": "stream",
     "text": [
      "0\n",
      "0\n"
     ]
    }
   ],
   "source": [
    "#4️Checking for negative value\n",
    "print((data.Quantity< 0).sum())\n",
    "print((data.Price< 0).sum())"
   ]
  },
  {
   "cell_type": "markdown",
   "metadata": {},
   "source": [
    "#### 5️⃣Cleaning Outliers"
   ]
  },
  {
   "cell_type": "code",
   "execution_count": 22,
   "metadata": {},
   "outputs": [],
   "source": [
    "def outlier_thresholds(dataframe, variable):\n",
    "    quartile1 = dataframe[variable].quantile(0.01)\n",
    "    quartile3 = dataframe[variable].quantile(0.99)\n",
    "    interquantile_range = quartile3 - quartile1\n",
    "    up_limit = quartile3 + 1.5 * interquantile_range\n",
    "    low_limit = quartile1 - 1.5 * interquantile_range\n",
    "    return up_limit, low_limit\n",
    "\n",
    "def replace_with_threshold(dataframe, variable):\n",
    "    up_limit, low_limit = outlier_thresholds(dataframe, variable)\n",
    "    # dataframe.loc[(dataframe[variable] < low_limit), variable] = low_limit\n",
    "    dataframe.loc[(dataframe[variable] > up_limit), variable] = up_limit"
   ]
  },
  {
   "cell_type": "code",
   "execution_count": 26,
   "metadata": {},
   "outputs": [
    {
     "data": {
      "image/png": "[encoded data removed]",
      "text/plain": [
       "<Figure size 2000x500 with 2 Axes>"
      ]
     },
     "metadata": {},
     "output_type": "display_data"
    }
   ],
   "source": [
    "# Observing them before removing outliers.\n",
    "fig, ax = plt.subplots(2,1, figsize =(20,5))\n",
    "col_list = [\"Quantity\", \"Price\"]\n",
    "for i in range(0,2):\n",
    "    ax[i].boxplot(data[col_list[i]],flierprops = dict(marker = \"s\", markerfacecolor = \"red\"), vert = 0)\n",
    "plt.show()"
   ]
  },
  {
   "cell_type": "code",
   "execution_count": 27,
   "metadata": {},
   "outputs": [],
   "source": [
    "replace_with_threshold(data, \"Quantity\")\n",
    "replace_with_threshold(data, \"Price\")"
   ]
  },
  {
   "cell_type": "code",
   "execution_count": 28,
   "metadata": {},
   "outputs": [
    {
     "data": {
      "image/png": "[encoded data removed]",
      "text/plain": [
       "<Figure size 2000x500 with 2 Axes>"
      ]
     },
     "metadata": {},
     "output_type": "display_data"
    }
   ],
   "source": [
    "# Observing them after removing outliers.\n",
    "fig, ax = plt.subplots(2,1, figsize =(20,5))\n",
    "col_list = [\"Quantity\", \"Price\"]\n",
    "for i in range(0,2):\n",
    "    ax[i].boxplot(data[col_list[i]],flierprops = dict(marker = \"s\", markerfacecolor = \"red\"), vert = 0)\n",
    "plt.show()"
   ]
  },
  {
   "cell_type": "markdown",
   "metadata": {},
   "source": [
    "## EDA : Feature Engineering"
   ]
  },
  {
   "cell_type": "code",
   "execution_count": 29,
   "metadata": {},
   "outputs": [],
   "source": [
    "#Creating new feature Revenue\n",
    "data['Revenue'] = data['Quantity'] * data['Price']"
   ]
  },
  {
   "cell_type": "code",
   "execution_count": 30,
   "metadata": {},
   "outputs": [],
   "source": [
    "#Creating Features for RFM Model\n",
    "#Changing data type to datetime\n",
    "data['InvoiceDate'] = pd.to_datetime(data['InvoiceDate'])"
   ]
  },
  {
   "cell_type": "code",
   "execution_count": 32,
   "metadata": {},
   "outputs": [
    {
     "name": "stdout",
     "output_type": "stream",
     "text": [
      "2011-12-09 12:50:00\n",
      "2009-12-01 07:45:00\n"
     ]
    }
   ],
   "source": [
    "print(data['InvoiceDate'].max())\n",
    "print(data['InvoiceDate'].min())"
   ]
  },
  {
   "cell_type": "code",
   "execution_count": 33,
   "metadata": {},
   "outputs": [
    {
     "data": {
      "text/html": [
       "<style type=\"text/css\">\n",
       "#T_ea8d8_row0_col0, #T_ea8d8_row0_col1, #T_ea8d8_row0_col2, #T_ea8d8_row0_col3, #T_ea8d8_row1_col0, #T_ea8d8_row1_col1, #T_ea8d8_row1_col2, #T_ea8d8_row1_col3, #T_ea8d8_row2_col0, #T_ea8d8_row2_col1, #T_ea8d8_row2_col2, #T_ea8d8_row2_col3, #T_ea8d8_row3_col0, #T_ea8d8_row3_col1, #T_ea8d8_row3_col2, #T_ea8d8_row3_col3, #T_ea8d8_row4_col0, #T_ea8d8_row4_col1, #T_ea8d8_row4_col2, #T_ea8d8_row4_col3 {\n",
       "  background-color: #cd5c5c;\n",
       "  color: black;\n",
       "  border-color: black;\n",
       "}\n",
       "</style>\n",
       "<table id=\"T_ea8d8\">\n",
       "  <thead>\n",
       "    <tr>\n",
       "      <th class=\"blank level0\" >&nbsp;</th>\n",
       "      <th id=\"T_ea8d8_level0_col0\" class=\"col_heading level0 col0\" >Customer ID</th>\n",
       "      <th id=\"T_ea8d8_level0_col1\" class=\"col_heading level0 col1\" >Recency</th>\n",
       "      <th id=\"T_ea8d8_level0_col2\" class=\"col_heading level0 col2\" >Frequency</th>\n",
       "      <th id=\"T_ea8d8_level0_col3\" class=\"col_heading level0 col3\" >Monetary</th>\n",
       "    </tr>\n",
       "  </thead>\n",
       "  <tbody>\n",
       "    <tr>\n",
       "      <th id=\"T_ea8d8_level0_row0\" class=\"row_heading level0 row0\" >0</th>\n",
       "      <td id=\"T_ea8d8_row0_col0\" class=\"data row0 col0\" >12346.000000</td>\n",
       "      <td id=\"T_ea8d8_row0_col1\" class=\"data row0 col1\" >325</td>\n",
       "      <td id=\"T_ea8d8_row0_col2\" class=\"data row0 col2\" >12</td>\n",
       "      <td id=\"T_ea8d8_row0_col3\" class=\"data row0 col3\" >745.700000</td>\n",
       "    </tr>\n",
       "    <tr>\n",
       "      <th id=\"T_ea8d8_level0_row1\" class=\"row_heading level0 row1\" >1</th>\n",
       "      <td id=\"T_ea8d8_row1_col0\" class=\"data row1 col0\" >12347.000000</td>\n",
       "      <td id=\"T_ea8d8_row1_col1\" class=\"data row1 col1\" >2</td>\n",
       "      <td id=\"T_ea8d8_row1_col2\" class=\"data row1 col2\" >8</td>\n",
       "      <td id=\"T_ea8d8_row1_col3\" class=\"data row1 col3\" >4921.530000</td>\n",
       "    </tr>\n",
       "    <tr>\n",
       "      <th id=\"T_ea8d8_level0_row2\" class=\"row_heading level0 row2\" >2</th>\n",
       "      <td id=\"T_ea8d8_row2_col0\" class=\"data row2 col0\" >12348.000000</td>\n",
       "      <td id=\"T_ea8d8_row2_col1\" class=\"data row2 col1\" >75</td>\n",
       "      <td id=\"T_ea8d8_row2_col2\" class=\"data row2 col2\" >5</td>\n",
       "      <td id=\"T_ea8d8_row2_col3\" class=\"data row2 col3\" >1991.860000</td>\n",
       "    </tr>\n",
       "    <tr>\n",
       "      <th id=\"T_ea8d8_level0_row3\" class=\"row_heading level0 row3\" >3</th>\n",
       "      <td id=\"T_ea8d8_row3_col0\" class=\"data row3 col0\" >12349.000000</td>\n",
       "      <td id=\"T_ea8d8_row3_col1\" class=\"data row3 col1\" >18</td>\n",
       "      <td id=\"T_ea8d8_row3_col2\" class=\"data row3 col2\" >4</td>\n",
       "      <td id=\"T_ea8d8_row3_col3\" class=\"data row3 col3\" >3786.500000</td>\n",
       "    </tr>\n",
       "    <tr>\n",
       "      <th id=\"T_ea8d8_level0_row4\" class=\"row_heading level0 row4\" >4</th>\n",
       "      <td id=\"T_ea8d8_row4_col0\" class=\"data row4 col0\" >12350.000000</td>\n",
       "      <td id=\"T_ea8d8_row4_col1\" class=\"data row4 col1\" >310</td>\n",
       "      <td id=\"T_ea8d8_row4_col2\" class=\"data row4 col2\" >1</td>\n",
       "      <td id=\"T_ea8d8_row4_col3\" class=\"data row4 col3\" >331.340000</td>\n",
       "    </tr>\n",
       "  </tbody>\n",
       "</table>\n"
      ],
      "text/plain": [
       "<pandas.io.formats.style.Styler at 0x1ae87ab0e80>"
      ]
     },
     "execution_count": 33,
     "metadata": {},
     "output_type": "execute_result"
    }
   ],
   "source": [
    "#RFM Featuring\n",
    "\n",
    "#Set Latest date 2011-12-10 as last invoice date was 2011-12-09.\n",
    "\n",
    "Latest_Date = dt.datetime(2011,12,10)\n",
    "\n",
    "#Creating RFM features with subset of customerID\n",
    "\n",
    "RFM = data.groupby('Customer ID').agg({\n",
    "    'InvoiceDate': lambda x: (Latest_Date - x.max()).days,\n",
    "    'Invoice': lambda x: x.nunique(),\n",
    "    'Revenue': lambda x: x.sum()\n",
    "})\n",
    "\n",
    "RFM['InvoiceDate'] = RFM['InvoiceDate'].astype(int)\n",
    "#Renaming column names to Recency, Frequency and Monetary\n",
    "\n",
    "RFM.rename(columns ={\n",
    "    'InvoiceDate': 'Recency',\n",
    "    'Invoice': 'Frequency',\n",
    "    'Revenue': 'Monetary'\n",
    "}, inplace = True)\n",
    "\n",
    "RFM.reset_index().head().style.set_properties(**{\"background-color\": \"#cd5c5c\",\"color\": \"black\", \"border-color\": \"black\"})"
   ]
  },
  {
   "cell_type": "markdown",
   "metadata": {},
   "source": [
    "## Introducing New Feature : Interpurchase-Time"
   ]
  },
  {
   "cell_type": "markdown",
   "metadata": {},
   "source": [
    "#### The Fourth varibale of RFM, InterPurchase Time, is a measure of average time gap between total shopping trips by a customer. The Interpurchase Time is calcluted as fallows :\n",
    "\n",
    "* T = L/(F-1) = (Tn - T1)/(F-1)\n",
    "\n",
    "* T --> Interpurchase Time\n",
    "* L --> Shopping Cycle\n",
    " * F --> Frequency\n",
    " * T1 --> First purchase\n",
    " * Tn --> Last purchase\n",
    "* Note: We consider only those customers who made purchase more than once."
   ]
  },
  {
   "cell_type": "code",
   "execution_count": 35,
   "metadata": {},
   "outputs": [
    {
     "data": {
      "text/html": [
       "<div>\n",
       "<style scoped>\n",
       "    .dataframe tbody tr th:only-of-type {\n",
       "        vertical-align: middle;\n",
       "    }\n",
       "\n",
       "    .dataframe tbody tr th {\n",
       "        vertical-align: top;\n",
       "    }\n",
       "\n",
       "    .dataframe thead th {\n",
       "        text-align: right;\n",
       "    }\n",
       "</style>\n",
       "<table border=\"1\" class=\"dataframe\">\n",
       "  <thead>\n",
       "    <tr style=\"text-align: right;\">\n",
       "      <th></th>\n",
       "      <th>Recency</th>\n",
       "      <th>Frequency</th>\n",
       "      <th>Monetary</th>\n",
       "    </tr>\n",
       "    <tr>\n",
       "      <th>Customer ID</th>\n",
       "      <th></th>\n",
       "      <th></th>\n",
       "      <th></th>\n",
       "    </tr>\n",
       "  </thead>\n",
       "  <tbody>\n",
       "    <tr>\n",
       "      <th>12346.0</th>\n",
       "      <td>325</td>\n",
       "      <td>12</td>\n",
       "      <td>745.70</td>\n",
       "    </tr>\n",
       "    <tr>\n",
       "      <th>12347.0</th>\n",
       "      <td>2</td>\n",
       "      <td>8</td>\n",
       "      <td>4921.53</td>\n",
       "    </tr>\n",
       "    <tr>\n",
       "      <th>12348.0</th>\n",
       "      <td>75</td>\n",
       "      <td>5</td>\n",
       "      <td>1991.86</td>\n",
       "    </tr>\n",
       "    <tr>\n",
       "      <th>12349.0</th>\n",
       "      <td>18</td>\n",
       "      <td>4</td>\n",
       "      <td>3786.50</td>\n",
       "    </tr>\n",
       "    <tr>\n",
       "      <th>12352.0</th>\n",
       "      <td>36</td>\n",
       "      <td>10</td>\n",
       "      <td>2098.94</td>\n",
       "    </tr>\n",
       "  </tbody>\n",
       "</table>\n",
       "</div>"
      ],
      "text/plain": [
       "             Recency  Frequency  Monetary\n",
       "Customer ID                              \n",
       "12346.0          325         12    745.70\n",
       "12347.0            2          8   4921.53\n",
       "12348.0           75          5   1991.86\n",
       "12349.0           18          4   3786.50\n",
       "12352.0           36         10   2098.94"
      ]
     },
     "execution_count": 35,
     "metadata": {},
     "output_type": "execute_result"
    }
   ],
   "source": [
    "RFM = RFM[RFM['Frequency']>1]\n",
    "RFM.head()"
   ]
  },
  {
   "cell_type": "code",
   "execution_count": 37,
   "metadata": {},
   "outputs": [],
   "source": [
    "Shopping_Cycle = data.groupby('Customer ID').agg({\n",
    "    'InvoiceDate' : lambda x: (x.max() - x.min()).days\n",
    "})"
   ]
  },
  {
   "cell_type": "code",
   "execution_count": 38,
   "metadata": {},
   "outputs": [
    {
     "data": {
      "text/html": [
       "<div>\n",
       "<style scoped>\n",
       "    .dataframe tbody tr th:only-of-type {\n",
       "        vertical-align: middle;\n",
       "    }\n",
       "\n",
       "    .dataframe tbody tr th {\n",
       "        vertical-align: top;\n",
       "    }\n",
       "\n",
       "    .dataframe thead th {\n",
       "        text-align: right;\n",
       "    }\n",
       "</style>\n",
       "<table border=\"1\" class=\"dataframe\">\n",
       "  <thead>\n",
       "    <tr style=\"text-align: right;\">\n",
       "      <th></th>\n",
       "      <th>Recency</th>\n",
       "      <th>Frequency</th>\n",
       "      <th>Monetary</th>\n",
       "      <th>Shopping_Cycle</th>\n",
       "    </tr>\n",
       "    <tr>\n",
       "      <th>Customer ID</th>\n",
       "      <th></th>\n",
       "      <th></th>\n",
       "      <th></th>\n",
       "      <th></th>\n",
       "    </tr>\n",
       "  </thead>\n",
       "  <tbody>\n",
       "    <tr>\n",
       "      <th>12346.0</th>\n",
       "      <td>325</td>\n",
       "      <td>12</td>\n",
       "      <td>745.70</td>\n",
       "      <td>400</td>\n",
       "    </tr>\n",
       "    <tr>\n",
       "      <th>12347.0</th>\n",
       "      <td>2</td>\n",
       "      <td>8</td>\n",
       "      <td>4921.53</td>\n",
       "      <td>402</td>\n",
       "    </tr>\n",
       "    <tr>\n",
       "      <th>12348.0</th>\n",
       "      <td>75</td>\n",
       "      <td>5</td>\n",
       "      <td>1991.86</td>\n",
       "      <td>362</td>\n",
       "    </tr>\n",
       "    <tr>\n",
       "      <th>12349.0</th>\n",
       "      <td>18</td>\n",
       "      <td>4</td>\n",
       "      <td>3786.50</td>\n",
       "      <td>570</td>\n",
       "    </tr>\n",
       "    <tr>\n",
       "      <th>12352.0</th>\n",
       "      <td>36</td>\n",
       "      <td>10</td>\n",
       "      <td>2098.94</td>\n",
       "      <td>356</td>\n",
       "    </tr>\n",
       "  </tbody>\n",
       "</table>\n",
       "</div>"
      ],
      "text/plain": [
       "             Recency  Frequency  Monetary  Shopping_Cycle\n",
       "Customer ID                                              \n",
       "12346.0          325         12    745.70             400\n",
       "12347.0            2          8   4921.53             402\n",
       "12348.0           75          5   1991.86             362\n",
       "12349.0           18          4   3786.50             570\n",
       "12352.0           36         10   2098.94             356"
      ]
     },
     "execution_count": 38,
     "metadata": {},
     "output_type": "execute_result"
    }
   ],
   "source": [
    "RFM['Shopping_Cycle'] = Shopping_Cycle\n",
    "RFM.head()"
   ]
  },
  {
   "cell_type": "code",
   "execution_count": 41,
   "metadata": {},
   "outputs": [
    {
     "data": {
      "text/html": [
       "<div>\n",
       "<style scoped>\n",
       "    .dataframe tbody tr th:only-of-type {\n",
       "        vertical-align: middle;\n",
       "    }\n",
       "\n",
       "    .dataframe tbody tr th {\n",
       "        vertical-align: top;\n",
       "    }\n",
       "\n",
       "    .dataframe thead th {\n",
       "        text-align: right;\n",
       "    }\n",
       "</style>\n",
       "<table border=\"1\" class=\"dataframe\">\n",
       "  <thead>\n",
       "    <tr style=\"text-align: right;\">\n",
       "      <th></th>\n",
       "      <th>Recency</th>\n",
       "      <th>Frequency</th>\n",
       "      <th>Monetary</th>\n",
       "      <th>Interpurchase_Time</th>\n",
       "    </tr>\n",
       "    <tr>\n",
       "      <th>Customer ID</th>\n",
       "      <th></th>\n",
       "      <th></th>\n",
       "      <th></th>\n",
       "      <th></th>\n",
       "    </tr>\n",
       "  </thead>\n",
       "  <tbody>\n",
       "    <tr>\n",
       "      <th>12346.0</th>\n",
       "      <td>325</td>\n",
       "      <td>12</td>\n",
       "      <td>745.70</td>\n",
       "      <td>33</td>\n",
       "    </tr>\n",
       "    <tr>\n",
       "      <th>12347.0</th>\n",
       "      <td>2</td>\n",
       "      <td>8</td>\n",
       "      <td>4921.53</td>\n",
       "      <td>50</td>\n",
       "    </tr>\n",
       "    <tr>\n",
       "      <th>12348.0</th>\n",
       "      <td>75</td>\n",
       "      <td>5</td>\n",
       "      <td>1991.86</td>\n",
       "      <td>72</td>\n",
       "    </tr>\n",
       "    <tr>\n",
       "      <th>12349.0</th>\n",
       "      <td>18</td>\n",
       "      <td>4</td>\n",
       "      <td>3786.50</td>\n",
       "      <td>142</td>\n",
       "    </tr>\n",
       "    <tr>\n",
       "      <th>12352.0</th>\n",
       "      <td>36</td>\n",
       "      <td>10</td>\n",
       "      <td>2098.94</td>\n",
       "      <td>35</td>\n",
       "    </tr>\n",
       "  </tbody>\n",
       "</table>\n",
       "</div>"
      ],
      "text/plain": [
       "             Recency  Frequency  Monetary  Interpurchase_Time\n",
       "Customer ID                                                  \n",
       "12346.0          325         12    745.70                  33\n",
       "12347.0            2          8   4921.53                  50\n",
       "12348.0           75          5   1991.86                  72\n",
       "12349.0           18          4   3786.50                 142\n",
       "12352.0           36         10   2098.94                  35"
      ]
     },
     "execution_count": 41,
     "metadata": {},
     "output_type": "execute_result"
    }
   ],
   "source": [
    "RFM['Interpurchase_Time'] = RFM['Shopping_Cycle'] // RFM['Frequency']\n",
    "RFMT = RFM[['Recency', 'Frequency','Monetary','Interpurchase_Time']]\n",
    "RFMT.head()"
   ]
  },
  {
   "cell_type": "code",
   "execution_count": null,
   "metadata": {},
   "outputs": [],
   "source": []
  }
 ],
 "metadata": {
  "kernelspec": {
   "display_name": "Python 3",
   "language": "python",
   "name": "python3"
  },
  "language_info": {
   "codemirror_mode": {
    "name": "ipython",
    "version": 3
   },
   "file_extension": ".py",
   "mimetype": "text/x-python",
   "name": "python",
   "nbconvert_exporter": "python",
   "pygments_lexer": "ipython3",
   "version": "3.9.0"
  }
 },
 "nbformat": 4,
 "nbformat_minor": 2
}
